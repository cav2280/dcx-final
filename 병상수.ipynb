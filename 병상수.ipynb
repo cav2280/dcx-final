{
 "cells": [
  {
   "cell_type": "code",
   "execution_count": 92,
   "metadata": {},
   "outputs": [],
   "source": [
    "import pandas as pd"
   ]
  },
  {
   "cell_type": "code",
   "execution_count": 93,
   "metadata": {},
   "outputs": [
    {
     "name": "stdout",
     "output_type": "stream",
     "text": [
      "Index(['시군구별(2)', '2015', '시군구별(1)'], dtype='object')\n"
     ]
    }
   ],
   "source": [
    "# Print the column labels of the DataFrame\n",
    "print(beds_df.columns)"
   ]
  },
  {
   "cell_type": "code",
   "execution_count": 106,
   "metadata": {},
   "outputs": [
    {
     "data": {
      "text/html": [
       "<div>\n",
       "<style scoped>\n",
       "    .dataframe tbody tr th:only-of-type {\n",
       "        vertical-align: middle;\n",
       "    }\n",
       "\n",
       "    .dataframe tbody tr th {\n",
       "        vertical-align: top;\n",
       "    }\n",
       "\n",
       "    .dataframe thead th {\n",
       "        text-align: right;\n",
       "    }\n",
       "</style>\n",
       "<table border=\"1\" class=\"dataframe\">\n",
       "  <thead>\n",
       "    <tr style=\"text-align: right;\">\n",
       "      <th></th>\n",
       "      <th>시군구별(2)</th>\n",
       "      <th>2015</th>\n",
       "    </tr>\n",
       "  </thead>\n",
       "  <tbody>\n",
       "    <tr>\n",
       "      <th>0</th>\n",
       "      <td>강원도 강릉시</td>\n",
       "      <td>1229</td>\n",
       "    </tr>\n",
       "    <tr>\n",
       "      <th>1</th>\n",
       "      <td>강원도 동해시</td>\n",
       "      <td>199</td>\n",
       "    </tr>\n",
       "    <tr>\n",
       "      <th>2</th>\n",
       "      <td>강원도 삼척시</td>\n",
       "      <td>107</td>\n",
       "    </tr>\n",
       "    <tr>\n",
       "      <th>3</th>\n",
       "      <td>강원도 속초시</td>\n",
       "      <td>349</td>\n",
       "    </tr>\n",
       "    <tr>\n",
       "      <th>4</th>\n",
       "      <td>강원도 영월군</td>\n",
       "      <td>199</td>\n",
       "    </tr>\n",
       "  </tbody>\n",
       "</table>\n",
       "</div>"
      ],
      "text/plain": [
       "   시군구별(2)  2015\n",
       "0  강원도 강릉시  1229\n",
       "1  강원도 동해시   199\n",
       "2  강원도 삼척시   107\n",
       "3  강원도 속초시   349\n",
       "4  강원도 영월군   199"
      ]
     },
     "execution_count": 106,
     "metadata": {},
     "output_type": "execute_result"
    }
   ],
   "source": [
    "beds_df=pd.read_csv('Data\\의료기관_소재지_및_유형별__병실입원별_병상수_20230713212722_종.csv',encoding='cp949')\n",
    "beds_df.drop('유형별(1)',axis=1,inplace=True)\n",
    "beds_df.drop('유형별(2)',axis=1,inplace=True)\n",
    "beds_df = beds_df.drop(beds_df.index[0])\n",
    "for i in beds_df['2015']:\n",
    "    if i == '-':\n",
    "        beds_df['2015'] = beds_df['2015'].replace('-',0)\n",
    "        # print(i)\n",
    "beds_df['2015.1']=beds_df['2015.1'].astype(int)\n",
    "beds_df['2015']=beds_df['2015'].astype(int)\n",
    "beds_df['2015']=beds_df['2015']+beds_df['2015.1']\n",
    "beds_df.drop('2015.1',axis=1,inplace=True)\n",
    "beds_df.reset_index(drop=True,inplace=True)\n",
    "\n",
    "for i in range(len(beds_df.index)):\n",
    "    if beds_df['시군구별(1)'][i] == '서울':\n",
    "        beds_df.loc[i,'시군구별(1)'] = '서울특별시'\n",
    "    elif beds_df['시군구별(1)'][i] == '부산':\n",
    "        beds_df.loc[i,'시군구별(1)'] = '부산광역시'\n",
    "    elif beds_df['시군구별(1)'][i] == '대구':\n",
    "        beds_df.loc[i,'시군구별(1)'] = '대구광역시'\n",
    "    elif beds_df['시군구별(1)'][i] == '인천':\n",
    "        beds_df.loc[i,'시군구별(1)'] = '인천광역시'\n",
    "    elif beds_df['시군구별(1)'][i] == '광주':\n",
    "        beds_df.loc[i,'시군구별(1)'] = '광주광역시'\n",
    "    elif beds_df['시군구별(1)'][i] == '대전':\n",
    "        beds_df.loc[i,'시군구별(1)'] = '대전광역시'\n",
    "    elif beds_df['시군구별(1)'][i] == '울산':\n",
    "        beds_df.loc[i,'시군구별(1)'] = '울산광역시'\n",
    "    elif beds_df['시군구별(1)'][i] == '세종':\n",
    "        beds_df.loc[i,'시군구별(1)'] = '세종특별자치시'\n",
    "    elif beds_df['시군구별(1)'][i] == '경기':\n",
    "        beds_df.loc[i,'시군구별(1)'] = '경기도'\n",
    "    elif beds_df['시군구별(1)'][i] == '강원':\n",
    "        beds_df.loc[i,'시군구별(1)'] = '강원도'\n",
    "    elif beds_df['시군구별(1)'][i] == '충북':\n",
    "        beds_df.loc[i,'시군구별(1)'] = '충청북도'\n",
    "    elif beds_df['시군구별(1)'][i] == '충남':\n",
    "        beds_df.loc[i,'시군구별(1)'] = '충청남도'\n",
    "    elif beds_df['시군구별(1)'][i] == '전북':\n",
    "        beds_df.loc[i,'시군구별(1)'] = '전라북도'\n",
    "    elif beds_df['시군구별(1)'][i] == '전남':\n",
    "        beds_df.loc[i,'시군구별(1)'] = '전라남도'\n",
    "    elif beds_df['시군구별(1)'][i] == '경북':\n",
    "        beds_df.loc[i,'시군구별(1)'] = '경상북도'\n",
    "    elif beds_df['시군구별(1)'][i] == '경남':\n",
    "        beds_df.loc[i,'시군구별(1)'] = '경상남도'\n",
    "    elif beds_df['시군구별(1)'][i] == '제주':\n",
    "        beds_df.loc[i,'시군구별(1)'] = '제주특별자치도'\n",
    "\n",
    "\n",
    "\n",
    "    if '구' in beds_df['시군구별(2)'][i][-1:]:\n",
    "        if '시' in beds_df['시군구별(2)'][i]:\n",
    "            beds_df.loc[i,'시군구별(2)']=beds_df.loc[i,'시군구별(2)'].split('시')[0]+'시'\n",
    "    beds_df.loc[i, '시군구별(2)'] = beds_df.loc[i, '시군구별(1)'] + ' ' + beds_df.loc[i, '시군구별(2)']\n",
    "\n",
    "\n",
    "\n",
    "# '시군구별(2)' 열로 행 그룹화\n",
    "grouped = beds_df.groupby('시군구별(2)')\n",
    "\n",
    "# 합산할 열과 첫 번째 값을 유지할 열 지정\n",
    "aggregated = grouped.agg({'2015': 'sum', '시군구별(1)': 'first'})\n",
    "\n",
    "# 집계된 데이터로 데이터프레임 업데이트\n",
    "beds_df = aggregated.reset_index()\n",
    "\n",
    "beds_df.drop('시군구별(1)',axis=1,inplace=True)\n",
    "beds_df.head()"
   ]
  },
  {
   "cell_type": "code",
   "execution_count": null,
   "metadata": {},
   "outputs": [],
   "source": []
  }
 ],
 "metadata": {
  "kernelspec": {
   "display_name": "Python 3",
   "language": "python",
   "name": "python3"
  },
  "language_info": {
   "codemirror_mode": {
    "name": "ipython",
    "version": 3
   },
   "file_extension": ".py",
   "mimetype": "text/x-python",
   "name": "python",
   "nbconvert_exporter": "python",
   "pygments_lexer": "ipython3",
   "version": "3.10.11"
  },
  "orig_nbformat": 4
 },
 "nbformat": 4,
 "nbformat_minor": 2
}
