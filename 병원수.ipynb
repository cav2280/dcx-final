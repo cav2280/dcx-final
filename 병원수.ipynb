{
 "cells": [
  {
   "cell_type": "code",
   "execution_count": 1,
   "metadata": {},
   "outputs": [],
   "source": [
    "import pandas as pd"
   ]
  },
  {
   "cell_type": "code",
   "execution_count": 2,
   "metadata": {},
   "outputs": [
    {
     "data": {
      "text/html": [
       "<div>\n",
       "<style scoped>\n",
       "    .dataframe tbody tr th:only-of-type {\n",
       "        vertical-align: middle;\n",
       "    }\n",
       "\n",
       "    .dataframe tbody tr th {\n",
       "        vertical-align: top;\n",
       "    }\n",
       "\n",
       "    .dataframe thead th {\n",
       "        text-align: right;\n",
       "    }\n",
       "</style>\n",
       "<table border=\"1\" class=\"dataframe\">\n",
       "  <thead>\n",
       "    <tr style=\"text-align: right;\">\n",
       "      <th></th>\n",
       "      <th>지역</th>\n",
       "      <th>종합병원수</th>\n",
       "    </tr>\n",
       "  </thead>\n",
       "  <tbody>\n",
       "    <tr>\n",
       "      <th>0</th>\n",
       "      <td>강원도 강릉시</td>\n",
       "      <td>4</td>\n",
       "    </tr>\n",
       "    <tr>\n",
       "      <th>1</th>\n",
       "      <td>강원도 동해시</td>\n",
       "      <td>1</td>\n",
       "    </tr>\n",
       "    <tr>\n",
       "      <th>2</th>\n",
       "      <td>강원도 삼척시</td>\n",
       "      <td>1</td>\n",
       "    </tr>\n",
       "    <tr>\n",
       "      <th>3</th>\n",
       "      <td>강원도 속초시</td>\n",
       "      <td>2</td>\n",
       "    </tr>\n",
       "    <tr>\n",
       "      <th>4</th>\n",
       "      <td>강원도 영월군</td>\n",
       "      <td>1</td>\n",
       "    </tr>\n",
       "  </tbody>\n",
       "</table>\n",
       "</div>"
      ],
      "text/plain": [
       "        지역  종합병원수\n",
       "0  강원도 강릉시      4\n",
       "1  강원도 동해시      1\n",
       "2  강원도 삼척시      1\n",
       "3  강원도 속초시      2\n",
       "4  강원도 영월군      1"
      ]
     },
     "execution_count": 2,
     "metadata": {},
     "output_type": "execute_result"
    }
   ],
   "source": [
    "hospital_df=pd.read_csv('Data\\의료기관_소재지_및_유형별_의료기관수_20230713212631.csv',encoding='cp949')\n",
    "\n",
    "hospital_df.drop('유형별',axis=1,inplace=True)\n",
    "hospital_df.drop('병상수',axis=1,inplace=True)\n",
    "\n",
    "hospital_df = hospital_df.drop(hospital_df.index[0])\n",
    "\n",
    "hospital_df.reset_index(drop=True,inplace=True)\n",
    "\n",
    "for i in range(len(hospital_df.index)):\n",
    "    if hospital_df['시군구별'][i] == '소계':\n",
    "        hospital_df.drop(i,inplace=True)\n",
    "    \n",
    "for i in range(len(hospital_df.index)):\n",
    "    hospital_df.reset_index(drop=True,inplace=True)\n",
    "    if hospital_df['행정구역별'][i] == '서울':\n",
    "        hospital_df.loc[i,'행정구역별'] = '서울특별시'\n",
    "    elif hospital_df['행정구역별'][i] == '부산':\n",
    "        hospital_df.loc[i,'행정구역별'] = '부산광역시'\n",
    "    elif hospital_df['행정구역별'][i] == '대구':\n",
    "        hospital_df.loc[i,'행정구역별'] = '대구광역시'\n",
    "    elif hospital_df['행정구역별'][i] == '인천':\n",
    "        hospital_df.loc[i,'행정구역별'] = '인천광역시'\n",
    "    elif hospital_df['행정구역별'][i] == '광주':\n",
    "        hospital_df.loc[i,'행정구역별'] = '광주광역시'\n",
    "    elif hospital_df['행정구역별'][i] == '대전':\n",
    "        hospital_df.loc[i,'행정구역별'] = '대전광역시'\n",
    "    elif hospital_df['행정구역별'][i] == '울산':\n",
    "        hospital_df.loc[i,'행정구역별'] = '울산광역시'\n",
    "    elif hospital_df['행정구역별'][i] == '세종':\n",
    "        hospital_df.loc[i,'행정구역별'] = '세종특별자치시'\n",
    "    elif hospital_df['행정구역별'][i] == '경기':\n",
    "        hospital_df.loc[i,'행정구역별'] = '경기도'\n",
    "    elif hospital_df['행정구역별'][i] == '강원':\n",
    "        hospital_df.loc[i,'행정구역별'] = '강원도'\n",
    "    elif hospital_df['행정구역별'][i] == '충북':\n",
    "        hospital_df.loc[i,'행정구역별'] = '충청북도'\n",
    "    elif hospital_df['행정구역별'][i] == '충남':\n",
    "        hospital_df.loc[i,'행정구역별'] = '충청남도'\n",
    "    elif hospital_df['행정구역별'][i] == '전북':\n",
    "        hospital_df.loc[i,'행정구역별'] = '전라북도'\n",
    "    elif hospital_df['행정구역별'][i] == '전남':\n",
    "        hospital_df.loc[i,'행정구역별'] = '전라남도'\n",
    "    elif hospital_df['행정구역별'][i] == '경북':\n",
    "        hospital_df.loc[i,'행정구역별'] = '경상북도'\n",
    "    elif hospital_df['행정구역별'][i] == '경남':\n",
    "        hospital_df.loc[i,'행정구역별'] = '경상남도'\n",
    "    elif hospital_df['행정구역별'][i] == '제주':\n",
    "        hospital_df.loc[i,'행정구역별'] = '제주특별자치도'\n",
    "\n",
    "    if '구' in hospital_df['시군구별'][i][-1:]:\n",
    "        if '시' in hospital_df['시군구별'][i]:\n",
    "            hospital_df.loc[i,'시군구별']=hospital_df.loc[i,'시군구별'].split('시')[0]+'시'\n",
    "    hospital_df.loc[i, '시군구별'] = hospital_df.loc[i, '행정구역별'] + ' ' + hospital_df.loc[i, '시군구별']\n",
    "\n",
    "\n",
    "\n",
    "# '시군구별' 열로 행 그룹화\n",
    "grouped = hospital_df.groupby('시군구별')\n",
    "\n",
    "# 합산할 열과 첫 번째 값을 유지할 열 지정\n",
    "aggregated = grouped.agg({'기관수': 'sum', '행정구역별': 'first'})\n",
    "\n",
    "# 집계된 데이터로 데이터프레임 업데이트\n",
    "hospital_df = aggregated.reset_index()\n",
    "\n",
    "hospital_df.drop('행정구역별',axis=1,inplace=True)\n",
    "hospital_df.columns = ['지역', '종합병원수']\n",
    "hospital_df.head()"
   ]
  },
  {
   "cell_type": "code",
   "execution_count": 4,
   "metadata": {},
   "outputs": [
    {
     "data": {
      "text/plain": [
       "4"
      ]
     },
     "execution_count": 4,
     "metadata": {},
     "output_type": "execute_result"
    }
   ],
   "source": [
    "def hospital(location):\n",
    "    tmp = int(hospital_df.loc[hospital_df['지역']\n",
    "                     == location, '종합병원수'].iloc[0])\n",
    "    return (tmp)\n",
    "\n",
    "\n",
    "locate = '서울특별시 강남구'\n",
    "hospital(locate)"
   ]
  }
 ],
 "metadata": {
  "kernelspec": {
   "display_name": "Python 3",
   "language": "python",
   "name": "python3"
  },
  "language_info": {
   "codemirror_mode": {
    "name": "ipython",
    "version": 3
   },
   "file_extension": ".py",
   "mimetype": "text/x-python",
   "name": "python",
   "nbconvert_exporter": "python",
   "pygments_lexer": "ipython3",
   "version": "3.10.11"
  },
  "orig_nbformat": 4
 },
 "nbformat": 4,
 "nbformat_minor": 2
}
